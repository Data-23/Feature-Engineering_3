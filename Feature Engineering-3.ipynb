{
 "cells": [
  {
   "cell_type": "code",
   "execution_count": null,
   "id": "ab8850e4",
   "metadata": {},
   "outputs": [],
   "source": [
    "#Q1"
   ]
  },
  {
   "cell_type": "code",
   "execution_count": null,
   "id": "b435a6c9",
   "metadata": {},
   "outputs": [],
   "source": [
    "# Min-Max scaling, also known as normalization, is a data preprocessing technique used to rescale the features of a dataset so that they lie within a specific range, typically [0, 1] or [-1, 1]. This technique transforms the original data to a new scale while preserving the relationships between the values.\n",
    "\n",
    "\n",
    " \n",
    "\n",
    "# Why Min-Max Scaling is Used\n",
    "# Improves Convergence: Many machine learning algorithms, such as gradient descent-based methods, converge faster when the data is scaled.\n",
    "# Prevents Dominance: Features with larger ranges can dominate distance-based algorithms like KNN and SVM. Scaling ensures that all features contribute equally.\n",
    "# Compatibility: Some algorithms require features to be within a specific range (e.g., neural networks with activation functions like sigmoid).\n",
    "\n",
    "\n",
    "# Min-Max scaling is a simple yet effective technique for normalizing data, ensuring that all features contribute equally to the analysis. It is particularly useful for algorithms that are sensitive to the scale of the data, such as those based on distance metrics. By rescaling the features, Min-Max \n",
    "#scaling improves the performance and convergence of various machine learning models."
   ]
  },
  {
   "cell_type": "code",
   "execution_count": null,
   "id": "f346327a",
   "metadata": {},
   "outputs": [],
   "source": [
    "#Q2"
   ]
  },
  {
   "cell_type": "code",
   "execution_count": null,
   "id": "18ac2136",
   "metadata": {},
   "outputs": [],
   "source": [
    "# # The Unit Vector technique, also known as vector normalization or normalization \n",
    "# # to unit norm, is a feature scaling method where each feature vector is scaled \n",
    "# # to have a unit norm (magnitude of 1). This technique ensures that the length \n",
    "# # of each feature vector in the dataset is 1, making it particularly useful when \n",
    "# # the direction of the data points is more important than their magnitude.\n",
    "\n",
    "\n",
    "\n",
    "\n",
    "# Difference from Min-Max Scaling\n",
    "# Objective:\n",
    "\n",
    "# Min-Max Scaling: Scales the features to a specified range, typically [0, 1], preserving the relative distances between the values.\n",
    "# Unit Vector Scaling: Normalizes the entire feature vector to have a unit norm, ensuring that all vectors have the same length (1) but preserving the direction of the vectors.\n",
    "# Effect on Data:\n",
    "\n",
    "# Min-Max Scaling: Affects the minimum and maximum values of each feature, transforming the data into a fixed range.\n",
    "# Unit Vector Scaling: Affects the entire feature vector by transforming it to lie on the unit sphere, emphasizing the direction rather than the magnitude."
   ]
  },
  {
   "cell_type": "code",
   "execution_count": 1,
   "id": "95a85077",
   "metadata": {},
   "outputs": [
    {
     "name": "stdout",
     "output_type": "stream",
     "text": [
      "Original Data:\n",
      "   size   price\n",
      "0   500  150000\n",
      "1  1000  300000\n",
      "2  1500  450000\n",
      "3  2000  600000\n",
      "4  2500  750000\n",
      "\n",
      "Normalized Data (Unit Vector, L2 norm):\n",
      "       size     price\n",
      "0  0.003333  0.999994\n",
      "1  0.003333  0.999994\n",
      "2  0.003333  0.999994\n",
      "3  0.003333  0.999994\n",
      "4  0.003333  0.999994\n"
     ]
    }
   ],
   "source": [
    "import numpy as np\n",
    "import pandas as pd\n",
    "from sklearn.preprocessing import normalize\n",
    "\n",
    "# Create a sample dataframe\n",
    "data = {'size': [500, 1000, 1500, 2000, 2500],\n",
    "        'price': [150000, 300000, 450000, 600000, 750000]}\n",
    "df = pd.DataFrame(data)\n",
    "\n",
    "print(\"Original Data:\")\n",
    "print(df)\n",
    "\n",
    "# Normalize using the L2 norm\n",
    "normalized_data = normalize(df, norm='l2')\n",
    "\n",
    "# Convert the normalized data back to a dataframe\n",
    "normalized_df = pd.DataFrame(normalized_data, columns=df.columns)\n",
    "\n",
    "print(\"\\nNormalized Data (Unit Vector, L2 norm):\")\n",
    "print(normalized_df)\n"
   ]
  },
  {
   "cell_type": "code",
   "execution_count": null,
   "id": "17ef4a60",
   "metadata": {},
   "outputs": [],
   "source": [
    "#Q3"
   ]
  },
  {
   "cell_type": "code",
   "execution_count": null,
   "id": "2707b0a6",
   "metadata": {},
   "outputs": [],
   "source": [
    "# Principal Component Analysis (PCA) is a statistical technique used for dimensionality reduction, which transforms a dataset with potentially correlated variables into a set of linearly uncorrelated variables called principal components. The main goal of PCA is to reduce the number of dimensions (features) while preserving as much variability (information) as possible.\n",
    "\n",
    "# How PCA Works\n",
    "# Standardize the Data: Before applying PCA, it's common to standardize the dataset to have a mean of 0 and a standard deviation of 1 for each feature, especially when features have different units or scales.\n",
    "\n",
    "# Compute the Covariance Matrix: Calculate the covariance matrix to understand the relationships between different variables.\n",
    "\n",
    "# Compute Eigenvalues and Eigenvectors: The covariance matrix is decomposed into its eigenvalues and eigenvectors. The eigenvectors represent the direction of the principal components, and the eigenvalues represent the magnitude (variance) in these directions.\n",
    "\n",
    "# Sort Eigenvalues and Eigenvectors: The eigenvalues and their corresponding eigenvectors are sorted in descending order. The top eigenvectors (with the highest eigenvalues) form the principal components.\n",
    "\n",
    "# Transform the Data: The original data is projected onto the space formed by the selected principal components, reducing the dimensionality of the dataset.\n",
    "\n",
    "\n",
    "\n",
    "\n"
   ]
  },
  {
   "cell_type": "code",
   "execution_count": 2,
   "id": "6909c26e",
   "metadata": {},
   "outputs": [
    {
     "name": "stdout",
     "output_type": "stream",
     "text": [
      "Original Data:\n",
      "   feature1  feature2\n",
      "0       2.5       2.4\n",
      "1       0.5       0.7\n",
      "2       2.2       2.9\n",
      "3       1.9       2.2\n",
      "4       3.1       3.0\n",
      "5       2.3       2.7\n",
      "6       2.0       1.6\n",
      "7       1.0       1.1\n",
      "8       1.5       1.6\n",
      "9       1.1       0.9\n",
      "\n",
      "Principal Components:\n",
      "        PC1       PC2\n",
      "0 -1.086432 -0.223524\n",
      "1  2.308937  0.178081\n",
      "2 -1.241919  0.501509\n",
      "3 -0.340782  0.169919\n",
      "4 -2.184290 -0.264758\n",
      "5 -1.160739  0.230481\n",
      "6  0.092605 -0.453317\n",
      "7  1.482108  0.055667\n",
      "8  0.567226  0.021305\n",
      "9  1.563287 -0.215361\n"
     ]
    },
    {
     "data": {
      "image/png": "[encoded data removed]",
      "text/plain": [
       "<Figure size 800x600 with 1 Axes>"
      ]
     },
     "metadata": {},
     "output_type": "display_data"
    }
   ],
   "source": [
    "import numpy as np\n",
    "import pandas as pd\n",
    "import matplotlib.pyplot as plt\n",
    "from sklearn.decomposition import PCA\n",
    "from sklearn.preprocessing import StandardScaler\n",
    "\n",
    "# Sample dataset\n",
    "data = {\n",
    "    'feature1': [2.5, 0.5, 2.2, 1.9, 3.1, 2.3, 2, 1, 1.5, 1.1],\n",
    "    'feature2': [2.4, 0.7, 2.9, 2.2, 3, 2.7, 1.6, 1.1, 1.6, 0.9]\n",
    "}\n",
    "df = pd.DataFrame(data)\n",
    "\n",
    "print(\"Original Data:\")\n",
    "print(df)\n",
    "\n",
    "# Standardize the data\n",
    "scaler = StandardScaler()\n",
    "scaled_data = scaler.fit_transform(df)\n",
    "\n",
    "# Apply PCA\n",
    "pca = PCA(n_components=2)\n",
    "principal_components = pca.fit_transform(scaled_data)\n",
    "\n",
    "# Create a DataFrame with the principal components\n",
    "pca_df = pd.DataFrame(data=principal_components, columns=['PC1', 'PC2'])\n",
    "\n",
    "print(\"\\nPrincipal Components:\")\n",
    "print(pca_df)\n",
    "\n",
    "# Plotting the results\n",
    "plt.figure(figsize=(8, 6))\n",
    "plt.scatter(pca_df['PC1'], pca_df['PC2'], c='blue')\n",
    "plt.xlabel('Principal Component 1')\n",
    "plt.ylabel('Principal Component 2')\n",
    "plt.title('PCA Result')\n",
    "plt.grid()\n",
    "plt.show()\n"
   ]
  },
  {
   "cell_type": "code",
   "execution_count": null,
   "id": "e4049629",
   "metadata": {},
   "outputs": [],
   "source": [
    "# Explanation of the Example\n",
    "# Standardization: The data is standardized to ensure that each feature contributes equally to the analysis.\n",
    "# PCA Transformation: PCA is applied to the standardized data, transforming it into two principal components.\n",
    "# Visualization: The resulting principal components are plotted, showing how the original data is represented in the new feature space.\n",
    "# Applications of PCA\n",
    "# Dimensionality Reduction: Reducing the number of features while retaining the most important information, useful for visualization, and reducing computational cost.\n",
    "# Noise Reduction: By keeping only the components with the highest variance, PCA can help reduce noise in the data.\n",
    "# Feature Extraction: Creating new features (principal components) that can improve the performance of machine learning models.\n",
    "# Data Visualization: Projecting high-dimensional data into 2 or 3 dimensions for easier visualization and interpretation.\n",
    "# Conclusion\n",
    "# PCA is a powerful technique for dimensionality reduction that transforms \n",
    "# the original features into a new set of orthogonal features, preserving as much variance as possible. By selecting the top principal components, PCA reduces the dimensionality of the dataset while maintaining its essential structure, making it a valuable tool in data preprocessing and exploratory data analysis."
   ]
  },
  {
   "cell_type": "code",
   "execution_count": null,
   "id": "137ca8c6",
   "metadata": {},
   "outputs": [],
   "source": [
    "#Q4"
   ]
  },
  {
   "cell_type": "code",
   "execution_count": null,
   "id": "5fcb01a1",
   "metadata": {},
   "outputs": [],
   "source": [
    "# Relationship Between PCA and Feature Extraction\n",
    "# Principal Component Analysis (PCA) is inherently a feature extraction technique. It transforms the original features into a new set of features, known as principal components, which are linear combinations of the original features. These principal components capture the maximum variance in the data, with the first principal component capturing the most variance, the second principal component capturing the next most variance, and so on.\n",
    "\n",
    "# How PCA is Used for Feature Extraction\n",
    "# Transforming Data: PCA transforms the original data into a new coordinate system, where the axes (principal components) represent directions of maximum variance.\n",
    "# Dimensionality Reduction: By selecting the top \n",
    "# 𝑘\n",
    "# k principal components that capture most of the variance, we effectively reduce the dimensionality of the data while preserving as much information as possible.\n",
    "# New Feature Space: The selected principal components serve as new features that can be used for further analysis or as input to machine learning models.\n",
    "# Example of PCA for Feature Extraction\n",
    "# Let's consider a simple example with a dataset that has three features: feature1, feature2, and feature3.\n",
    "\n",
    "# Step-by-Step Process\n",
    "# Standardize the Data: Standardize the dataset to have zero mean and unit variance for each feature.\n",
    "# Apply PCA: Compute the principal components.\n",
    "# Select Principal Components: Choose the top \n",
    "# 𝑘\n",
    "# k principal components that capture most of the variance.\n",
    "# Transform Data: Project the original data onto the new feature space defined by the selected principal components."
   ]
  },
  {
   "cell_type": "code",
   "execution_count": 3,
   "id": "1e31905a",
   "metadata": {},
   "outputs": [
    {
     "name": "stdout",
     "output_type": "stream",
     "text": [
      "Original Data:\n",
      "   feature1  feature2  feature3\n",
      "0       2.5       2.4       3.3\n",
      "1       0.5       0.7       1.7\n",
      "2       2.2       2.9       3.9\n",
      "3       1.9       2.2       3.2\n",
      "4       3.1       3.0       4.1\n",
      "5       2.3       2.7       3.7\n",
      "6       2.0       1.6       2.6\n",
      "7       1.0       1.1       2.1\n",
      "8       1.5       1.6       2.6\n",
      "9       1.1       0.9       1.9\n",
      "\n",
      "Principal Components:\n",
      "        PC1       PC2\n",
      "0 -1.160576 -0.325231\n",
      "1  2.743071  0.245702\n",
      "2 -1.725048  0.552702\n",
      "3 -0.486854  0.188702\n",
      "4 -2.626481 -0.293441\n",
      "5 -1.512721  0.243400\n",
      "6  0.302450 -0.518109\n",
      "7  1.785287  0.090476\n",
      "8  0.683258  0.034626\n",
      "9  1.997613 -0.218826\n",
      "\n",
      "Explained Variance Ratio of Each Principal Component:\n",
      "[0.96689818 0.03260969]\n"
     ]
    },
    {
     "data": {
      "image/png": "[encoded data removed]",
      "text/plain": [
       "<Figure size 800x600 with 1 Axes>"
      ]
     },
     "metadata": {},
     "output_type": "display_data"
    }
   ],
   "source": [
    "import numpy as np\n",
    "import pandas as pd\n",
    "from sklearn.decomposition import PCA\n",
    "from sklearn.preprocessing import StandardScaler\n",
    "\n",
    "# Create a sample dataset\n",
    "data = {\n",
    "    'feature1': [2.5, 0.5, 2.2, 1.9, 3.1, 2.3, 2, 1, 1.5, 1.1],\n",
    "    'feature2': [2.4, 0.7, 2.9, 2.2, 3, 2.7, 1.6, 1.1, 1.6, 0.9],\n",
    "    'feature3': [3.3, 1.7, 3.9, 3.2, 4.1, 3.7, 2.6, 2.1, 2.6, 1.9]\n",
    "}\n",
    "df = pd.DataFrame(data)\n",
    "\n",
    "print(\"Original Data:\")\n",
    "print(df)\n",
    "\n",
    "# Standardize the data\n",
    "scaler = StandardScaler()\n",
    "scaled_data = scaler.fit_transform(df)\n",
    "\n",
    "# Apply PCA\n",
    "pca = PCA(n_components=2)  # Let's say we want to reduce to 2 dimensions\n",
    "principal_components = pca.fit_transform(scaled_data)\n",
    "\n",
    "# Create a DataFrame with the principal components\n",
    "pca_df = pd.DataFrame(data=principal_components, columns=['PC1', 'PC2'])\n",
    "\n",
    "print(\"\\nPrincipal Components:\")\n",
    "print(pca_df)\n",
    "\n",
    "# Explained variance\n",
    "explained_variance = pca.explained_variance_ratio_\n",
    "print(\"\\nExplained Variance Ratio of Each Principal Component:\")\n",
    "print(explained_variance)\n",
    "\n",
    "# Plotting the results\n",
    "import matplotlib.pyplot as plt\n",
    "\n",
    "plt.figure(figsize=(8, 6))\n",
    "plt.scatter(pca_df['PC1'], pca_df['PC2'], c='blue')\n",
    "plt.xlabel('Principal Component 1')\n",
    "plt.ylabel('Principal Component 2')\n",
    "plt.title('PCA Result')\n",
    "plt.grid()\n",
    "plt.show()\n"
   ]
  },
  {
   "cell_type": "code",
   "execution_count": null,
   "id": "3d22bd3d",
   "metadata": {},
   "outputs": [],
   "source": [
    "# Explanation of the Example\n",
    "# Original Data: The dataset consists of three features.\n",
    "# Standardization: The data is standardized to ensure that each feature contributes equally.\n",
    "# Apply PCA: PCA is applied to the standardized data, reducing the dimensionality to two principal components (PC1 and PC2).\n",
    "# Principal Components: The transformed data is now represented by the principal components.\n",
    "# Explained Variance: The explained variance ratio shows how much of the total variance is captured by each principal component.\n",
    "# Visualization: The resulting principal components are plotted, showing how the original data is represented in the new feature space.\n",
    "# Benefits of Using PCA for Feature Extraction\n",
    "# Dimensionality Reduction: Reduces the number of features while retaining most of the variance, making it easier to visualize and analyze the data.\n",
    "# Noise Reduction: By focusing on the principal components, PCA can help reduce the impact of noise in the data.\n",
    "# Improved Performance: Reducing the number of features can lead to faster training times and potentially better model performance, especially when dealing with high-dimensional data.\n",
    "# Avoid Multicollinearity: PCA generates orthogonal (uncorrelated) features, which can help mitigate issues related to multicollinearity.\n",
    "# Conclusion\n",
    "# PCA is a powerful feature extraction technique that transforms the original features into a new set of orthogonal principal components. By selecting the principal components that capture the most variance, PCA reduces the dimensionality of the data while preserving essential information. This makes PCA an effective tool for preprocessing and analyzing high-dimensional datasets."
   ]
  },
  {
   "cell_type": "code",
   "execution_count": null,
   "id": "275904ca",
   "metadata": {},
   "outputs": [],
   "source": [
    "#Q5"
   ]
  },
  {
   "cell_type": "code",
   "execution_count": null,
   "id": "453bdacf",
   "metadata": {},
   "outputs": [],
   "source": [
    "# Explanation of the Example\n",
    "# Original Data: The dataset consists of three features: Price, Rating, and Delivery Time.\n",
    "# Initialize MinMaxScaler: We create an instance of MinMaxScaler.\n",
    "# Fit and Transform: The fit_transform method is used to compute the minimum and maximum values for each feature and scale the data accordingly.\n",
    "# Convert to DataFrame: The transformed data is converted back to a DataFrame for easy interpretation.\n",
    "# Why Use Min-Max Scaling?\n",
    "# Equal Weight: Ensures that each feature contributes equally to the analysis, preventing features with larger scales from dominating the results.\n",
    "# Improved Convergence: Many machine learning algorithms, such as gradient descent-based methods, converge faster when the data is scaled.\n",
    "# Consistent Range: By scaling features to a consistent range, it becomes easier to compare and combine features.\n",
    "# Conclusion\n",
    "# Min-Max scaling is an essential preprocessing step in building a recommendation system for a food delivery service. By scaling features such as price, rating, and delivery time to a common range, the algorithm can more effectively analyze and utilize the data to provide accurate recommendations. This preprocessing step enhances the performance and reliability of the machine learning models used in the recommendation system."
   ]
  },
  {
   "cell_type": "code",
   "execution_count": 4,
   "id": "f12ff318",
   "metadata": {},
   "outputs": [
    {
     "name": "stdout",
     "output_type": "stream",
     "text": [
      "Original Data:\n",
      "   Price  Rating  Delivery Time\n",
      "0     10     4.5             30\n",
      "1     15     3.8             45\n",
      "2      7     4.7             25\n",
      "3     12     4.0             35\n",
      "4      9     4.2             40\n",
      "\n",
      "Scaled Data:\n",
      "   Price    Rating  Delivery Time\n",
      "0  0.375  0.777778           0.25\n",
      "1  1.000  0.000000           1.00\n",
      "2  0.000  1.000000           0.00\n",
      "3  0.625  0.222222           0.50\n",
      "4  0.250  0.444444           0.75\n"
     ]
    }
   ],
   "source": [
    "import pandas as pd\n",
    "from sklearn.preprocessing import MinMaxScaler\n",
    "\n",
    "# Create a sample dataframe\n",
    "data = {\n",
    "    'Price': [10, 15, 7, 12, 9],\n",
    "    'Rating': [4.5, 3.8, 4.7, 4.0, 4.2],\n",
    "    'Delivery Time': [30, 45, 25, 35, 40]\n",
    "}\n",
    "df = pd.DataFrame(data)\n",
    "\n",
    "print(\"Original Data:\")\n",
    "print(df)\n",
    "\n",
    "# Initialize the MinMaxScaler\n",
    "scaler = MinMaxScaler()\n",
    "\n",
    "# Fit and transform the data\n",
    "scaled_data = scaler.fit_transform(df)\n",
    "\n",
    "# Convert the scaled data back to a dataframe\n",
    "scaled_df = pd.DataFrame(scaled_data, columns=df.columns)\n",
    "\n",
    "print(\"\\nScaled Data:\")\n",
    "print(scaled_df)\n"
   ]
  },
  {
   "cell_type": "code",
   "execution_count": null,
   "id": "0e52664f",
   "metadata": {},
   "outputs": [],
   "source": [
    "#Q6"
   ]
  },
  {
   "cell_type": "code",
   "execution_count": null,
   "id": "09dd1e29",
   "metadata": {},
   "outputs": [],
   "source": [
    "# Using Principal Component Analysis (PCA) to reduce the dimensionality of a dataset for predicting stock prices involves several steps. PCA helps in simplifying the dataset by transforming the original features into a new set of orthogonal features (principal components) that capture the most variance in the data. Here’s how you can use PCA for this purpose:\n",
    "\n",
    "# Steps to Apply PCA for Dimensionality Reduction\n",
    "# Understand the Data: Identify the features in your dataset, such as company financial data and market trends.\n",
    "# Standardize the Data: Standardize the dataset to have zero mean and unit variance for each feature.\n",
    "# Compute PCA: Apply PCA to compute the principal components.\n",
    "# Select Principal Components: Determine the number of principal components to retain based on the explained variance.\n",
    "# Transform the Data: Project the original data onto the new feature space defined by the selected principal components."
   ]
  },
  {
   "cell_type": "code",
   "execution_count": 5,
   "id": "c2d2e63d",
   "metadata": {},
   "outputs": [],
   "source": [
    "import pandas as pd\n",
    "from sklearn.preprocessing import StandardScaler\n",
    "\n",
    "# Example dataset\n",
    "data = {\n",
    "    'earnings': [2.5, 0.5, 2.2, 1.9, 3.1],\n",
    "    'revenue': [10, 15, 7, 12, 9],\n",
    "    'assets': [20, 30, 25, 35, 40],\n",
    "    'liabilities': [5, 10, 5, 8, 7],\n",
    "    'stock_index': [1000, 1100, 1050, 1080, 1070],\n",
    "    'trading_volume': [150000, 300000, 450000, 600000, 750000],\n",
    "    'interest_rate': [2.0, 2.5, 1.5, 2.0, 2.2]\n",
    "}\n",
    "df = pd.DataFrame(data)\n",
    "\n",
    "# Standardize the data\n",
    "scaler = StandardScaler()\n",
    "scaled_data = scaler.fit_transform(df)\n"
   ]
  },
  {
   "cell_type": "code",
   "execution_count": 6,
   "id": "b61f964e",
   "metadata": {},
   "outputs": [],
   "source": [
    "from sklearn.decomposition import PCA\n",
    "\n",
    "# Apply PCA\n",
    "pca = PCA()\n",
    "principal_components = pca.fit_transform(scaled_data)\n"
   ]
  },
  {
   "cell_type": "code",
   "execution_count": 7,
   "id": "6a3e7ba8",
   "metadata": {},
   "outputs": [
    {
     "name": "stdout",
     "output_type": "stream",
     "text": [
      "Explained Variance Ratio: [5.74974612e-01 3.28230360e-01 8.74671442e-02 9.32788406e-03\n",
      " 3.36959870e-33]\n",
      "Cumulative Explained Variance: [0.57497461 0.90320497 0.99067212 1.         1.        ]\n"
     ]
    }
   ],
   "source": [
    "# Explained variance ratio\n",
    "explained_variance = pca.explained_variance_ratio_\n",
    "cumulative_explained_variance = explained_variance.cumsum()\n",
    "\n",
    "print(\"Explained Variance Ratio:\", explained_variance)\n",
    "print(\"Cumulative Explained Variance:\", cumulative_explained_variance)\n"
   ]
  },
  {
   "cell_type": "code",
   "execution_count": 8,
   "id": "49d950f1",
   "metadata": {},
   "outputs": [
    {
     "data": {
      "image/png": "[encoded data removed]",
      "text/plain": [
       "<Figure size 800x500 with 1 Axes>"
      ]
     },
     "metadata": {},
     "output_type": "display_data"
    }
   ],
   "source": [
    "import matplotlib.pyplot as plt\n",
    "\n",
    "# Plot cumulative explained variance\n",
    "plt.figure(figsize=(8, 5))\n",
    "plt.plot(range(1, len(cumulative_explained_variance) + 1), cumulative_explained_variance, marker='o', linestyle='--')\n",
    "plt.title('Cumulative Explained Variance by Principal Components')\n",
    "plt.xlabel('Number of Principal Components')\n",
    "plt.ylabel('Cumulative Explained Variance')\n",
    "plt.grid()\n",
    "plt.show()\n"
   ]
  },
  {
   "cell_type": "code",
   "execution_count": 9,
   "id": "7537133e",
   "metadata": {},
   "outputs": [
    {
     "name": "stdout",
     "output_type": "stream",
     "text": [
      "\n",
      "Principal Components:\n",
      "        PC1       PC2       PC3\n",
      "0 -2.119332 -1.796284 -0.913291\n",
      "1  3.151449 -1.462560  0.152026\n",
      "2 -2.164917  0.134828  1.217533\n",
      "3  0.997925  0.779566  0.327592\n",
      "4  0.134874  2.344450 -0.783860\n"
     ]
    }
   ],
   "source": [
    "# Choose the number of components (e.g., 3 components)\n",
    "pca = PCA(n_components=3)\n",
    "principal_components = pca.fit_transform(scaled_data)\n",
    "\n",
    "# Create a DataFrame with the principal components\n",
    "pca_df = pd.DataFrame(data=principal_components, columns=['PC1', 'PC2', 'PC3'])\n",
    "\n",
    "print(\"\\nPrincipal Components:\")\n",
    "print(pca_df)\n"
   ]
  },
  {
   "cell_type": "code",
   "execution_count": null,
   "id": "eb566df2",
   "metadata": {},
   "outputs": [],
   "source": [
    "# Summary\n",
    "# Standardize the Data: Ensures all features contribute equally.\n",
    "# Compute PCA: Computes the principal components based on the standardized data.\n",
    "# Select Principal Components: Choose the number of components that explain a sufficient amount of variance.\n",
    "# Transform the Data: Project the original data onto the new feature space.\n",
    "# Conclusion\n",
    "# By using PCA, you can reduce the dimensionality of your dataset, which simplifies the data and may improve the performance of your stock price prediction model. PCA achieves this by transforming the original features into a set of orthogonal components that capture the most variance in the \n",
    "# data, allowing you to retain the most important information while reducing the number of features."
   ]
  },
  {
   "cell_type": "code",
   "execution_count": null,
   "id": "73c8a784",
   "metadata": {},
   "outputs": [],
   "source": [
    "#Q7"
   ]
  },
  {
   "cell_type": "code",
   "execution_count": 10,
   "id": "8d0434c8",
   "metadata": {},
   "outputs": [
    {
     "name": "stdout",
     "output_type": "stream",
     "text": [
      "Scaled Data: [-1.         -0.57894737 -0.05263158  0.47368421  1.        ]\n"
     ]
    }
   ],
   "source": [
    "import numpy as np\n",
    "\n",
    "# Original data\n",
    "data = np.array([1, 5, 10, 15, 20])\n",
    "\n",
    "# Min and max values of the original data\n",
    "min_val = np.min(data)\n",
    "max_val = np.max(data)\n",
    "\n",
    "# Target range\n",
    "a = -1\n",
    "b = 1\n",
    "\n",
    "# Apply Min-Max scaling to the target range\n",
    "scaled_data = a + (data - min_val) * (b - a) / (max_val - min_val)\n",
    "\n",
    "print(\"Scaled Data:\", scaled_data)\n"
   ]
  },
  {
   "cell_type": "code",
   "execution_count": null,
   "id": "da4d01f6",
   "metadata": {},
   "outputs": [],
   "source": []
  }
 ],
 "metadata": {
  "kernelspec": {
   "display_name": "Python 3",
   "language": "python",
   "name": "python3"
  },
  "language_info": {
   "codemirror_mode": {
    "name": "ipython",
    "version": 3
   },
   "file_extension": ".py",
   "mimetype": "text/x-python",
   "name": "python",
   "nbconvert_exporter": "python",
   "pygments_lexer": "ipython3",
   "version": "3.11.3"
  }
 },
 "nbformat": 4,
 "nbformat_minor": 5
}
